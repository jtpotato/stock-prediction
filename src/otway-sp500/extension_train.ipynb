{
 "cells": [
  {
   "cell_type": "code",
   "execution_count": 55,
   "metadata": {},
   "outputs": [
    {
     "data": {
      "text/html": [
       "<div>\n",
       "<style scoped>\n",
       "    .dataframe tbody tr th:only-of-type {\n",
       "        vertical-align: middle;\n",
       "    }\n",
       "\n",
       "    .dataframe tbody tr th {\n",
       "        vertical-align: top;\n",
       "    }\n",
       "\n",
       "    .dataframe thead th {\n",
       "        text-align: right;\n",
       "    }\n",
       "</style>\n",
       "<table border=\"1\" class=\"dataframe\">\n",
       "  <thead>\n",
       "    <tr style=\"text-align: right;\">\n",
       "      <th></th>\n",
       "      <th>Open</th>\n",
       "      <th>High</th>\n",
       "      <th>Low</th>\n",
       "      <th>Close</th>\n",
       "      <th>5d</th>\n",
       "      <th>10d</th>\n",
       "      <th>20d</th>\n",
       "    </tr>\n",
       "    <tr>\n",
       "      <th>Date</th>\n",
       "      <th></th>\n",
       "      <th></th>\n",
       "      <th></th>\n",
       "      <th></th>\n",
       "      <th></th>\n",
       "      <th></th>\n",
       "      <th></th>\n",
       "    </tr>\n",
       "  </thead>\n",
       "  <tbody>\n",
       "    <tr>\n",
       "      <th>2014-07-14</th>\n",
       "      <td>0.037816</td>\n",
       "      <td>0.036900</td>\n",
       "      <td>0.044390</td>\n",
       "      <td>0.041064</td>\n",
       "      <td>0.033454</td>\n",
       "      <td>0.027488</td>\n",
       "      <td>0.022811</td>\n",
       "    </tr>\n",
       "    <tr>\n",
       "      <th>2014-07-15</th>\n",
       "      <td>0.039894</td>\n",
       "      <td>0.037642</td>\n",
       "      <td>0.043134</td>\n",
       "      <td>0.040004</td>\n",
       "      <td>0.033993</td>\n",
       "      <td>0.027862</td>\n",
       "      <td>0.023326</td>\n",
       "    </tr>\n",
       "    <tr>\n",
       "      <th>2014-07-16</th>\n",
       "      <td>0.039614</td>\n",
       "      <td>0.038036</td>\n",
       "      <td>0.046004</td>\n",
       "      <td>0.042304</td>\n",
       "      <td>0.034485</td>\n",
       "      <td>0.028098</td>\n",
       "      <td>0.023901</td>\n",
       "    </tr>\n",
       "    <tr>\n",
       "      <th>2014-07-17</th>\n",
       "      <td>0.040557</td>\n",
       "      <td>0.037442</td>\n",
       "      <td>0.040425</td>\n",
       "      <td>0.035798</td>\n",
       "      <td>0.034115</td>\n",
       "      <td>0.027625</td>\n",
       "      <td>0.023918</td>\n",
       "    </tr>\n",
       "    <tr>\n",
       "      <th>2014-07-18</th>\n",
       "      <td>0.035510</td>\n",
       "      <td>0.036917</td>\n",
       "      <td>0.041878</td>\n",
       "      <td>0.041374</td>\n",
       "      <td>0.034715</td>\n",
       "      <td>0.027419</td>\n",
       "      <td>0.024190</td>\n",
       "    </tr>\n",
       "    <tr>\n",
       "      <th>...</th>\n",
       "      <td>...</td>\n",
       "      <td>...</td>\n",
       "      <td>...</td>\n",
       "      <td>...</td>\n",
       "      <td>...</td>\n",
       "      <td>...</td>\n",
       "      <td>...</td>\n",
       "    </tr>\n",
       "    <tr>\n",
       "      <th>2024-06-10</th>\n",
       "      <td>0.972091</td>\n",
       "      <td>0.977374</td>\n",
       "      <td>0.978436</td>\n",
       "      <td>0.979762</td>\n",
       "      <td>0.982198</td>\n",
       "      <td>0.983501</td>\n",
       "      <td>0.991455</td>\n",
       "    </tr>\n",
       "    <tr>\n",
       "      <th>2024-06-11</th>\n",
       "      <td>0.975356</td>\n",
       "      <td>0.980196</td>\n",
       "      <td>0.977249</td>\n",
       "      <td>0.983793</td>\n",
       "      <td>0.986923</td>\n",
       "      <td>0.985486</td>\n",
       "      <td>0.993690</td>\n",
       "    </tr>\n",
       "    <tr>\n",
       "      <th>2024-06-12</th>\n",
       "      <td>0.990910</td>\n",
       "      <td>1.000000</td>\n",
       "      <td>1.000000</td>\n",
       "      <td>0.996474</td>\n",
       "      <td>0.990693</td>\n",
       "      <td>0.989902</td>\n",
       "      <td>0.996223</td>\n",
       "    </tr>\n",
       "    <tr>\n",
       "      <th>2024-06-13</th>\n",
       "      <td>1.000000</td>\n",
       "      <td>0.998522</td>\n",
       "      <td>0.998161</td>\n",
       "      <td>1.000000</td>\n",
       "      <td>0.995239</td>\n",
       "      <td>0.995584</td>\n",
       "      <td>0.998047</td>\n",
       "    </tr>\n",
       "    <tr>\n",
       "      <th>2024-06-14</th>\n",
       "      <td>0.995053</td>\n",
       "      <td>0.995873</td>\n",
       "      <td>0.998505</td>\n",
       "      <td>0.999406</td>\n",
       "      <td>1.000000</td>\n",
       "      <td>1.000000</td>\n",
       "      <td>1.000000</td>\n",
       "    </tr>\n",
       "  </tbody>\n",
       "</table>\n",
       "<p>2499 rows × 7 columns</p>\n",
       "</div>"
      ],
      "text/plain": [
       "                Open      High       Low     Close        5d       10d  \\\n",
       "Date                                                                     \n",
       "2014-07-14  0.037816  0.036900  0.044390  0.041064  0.033454  0.027488   \n",
       "2014-07-15  0.039894  0.037642  0.043134  0.040004  0.033993  0.027862   \n",
       "2014-07-16  0.039614  0.038036  0.046004  0.042304  0.034485  0.028098   \n",
       "2014-07-17  0.040557  0.037442  0.040425  0.035798  0.034115  0.027625   \n",
       "2014-07-18  0.035510  0.036917  0.041878  0.041374  0.034715  0.027419   \n",
       "...              ...       ...       ...       ...       ...       ...   \n",
       "2024-06-10  0.972091  0.977374  0.978436  0.979762  0.982198  0.983501   \n",
       "2024-06-11  0.975356  0.980196  0.977249  0.983793  0.986923  0.985486   \n",
       "2024-06-12  0.990910  1.000000  1.000000  0.996474  0.990693  0.989902   \n",
       "2024-06-13  1.000000  0.998522  0.998161  1.000000  0.995239  0.995584   \n",
       "2024-06-14  0.995053  0.995873  0.998505  0.999406  1.000000  1.000000   \n",
       "\n",
       "                 20d  \n",
       "Date                  \n",
       "2014-07-14  0.022811  \n",
       "2014-07-15  0.023326  \n",
       "2014-07-16  0.023901  \n",
       "2014-07-17  0.023918  \n",
       "2014-07-18  0.024190  \n",
       "...              ...  \n",
       "2024-06-10  0.991455  \n",
       "2024-06-11  0.993690  \n",
       "2024-06-12  0.996223  \n",
       "2024-06-13  0.998047  \n",
       "2024-06-14  1.000000  \n",
       "\n",
       "[2499 rows x 7 columns]"
      ]
     },
     "execution_count": 55,
     "metadata": {},
     "output_type": "execute_result"
    }
   ],
   "source": [
    "import pandas as pd\n",
    "\n",
    "data = pd.read_csv(\"./sp500.csv\")\n",
    "# set date to be the index\n",
    "data = data.set_index(\"Date\")\n",
    "\n",
    "data"
   ]
  },
  {
   "cell_type": "code",
   "execution_count": 56,
   "metadata": {},
   "outputs": [],
   "source": [
    "import numpy as np"
   ]
  },
  {
   "cell_type": "code",
   "execution_count": 57,
   "metadata": {},
   "outputs": [],
   "source": [
    "WINDOW_SIZE = 10\n",
    "X, y = [[], []]\n",
    "\n",
    "for i in range(len(data) - WINDOW_SIZE):\n",
    "    X.append(data.iloc[i : i + WINDOW_SIZE].values)\n",
    "    y.append(data[\"Close\"].iloc[i + WINDOW_SIZE])  # next day close price\n",
    "\n",
    "X = np.array(X).astype(np.float32)\n",
    "y = np.array(y).astype(np.float32)"
   ]
  },
  {
   "cell_type": "code",
   "execution_count": 58,
   "metadata": {},
   "outputs": [
    {
     "data": {
      "text/plain": [
       "(1991,)"
      ]
     },
     "execution_count": 58,
     "metadata": {},
     "output_type": "execute_result"
    }
   ],
   "source": [
    "from sklearn.model_selection import train_test_split\n",
    "\n",
    "X_train, X_test, y_train, y_test = train_test_split(X, y, test_size=0.2)\n",
    "\n",
    "y_train.shape"
   ]
  },
  {
   "cell_type": "code",
   "execution_count": 59,
   "metadata": {},
   "outputs": [],
   "source": [
    "import torch\n",
    "import torch.nn as nn"
   ]
  },
  {
   "cell_type": "code",
   "execution_count": 60,
   "metadata": {},
   "outputs": [
    {
     "name": "stdout",
     "output_type": "stream",
     "text": [
      "Using MPS\n"
     ]
    }
   ],
   "source": [
    "device = torch.device(\"cpu\")\n",
    "\n",
    "if torch.cuda.is_available():\n",
    "    print(\"Using CUDA\")\n",
    "    device = torch.device(\"cuda\")\n",
    "elif torch.backends.mps.is_available():\n",
    "    print(\"Using MPS\")\n",
    "    device = torch.device(\"mps\")"
   ]
  },
  {
   "cell_type": "code",
   "execution_count": 61,
   "metadata": {},
   "outputs": [],
   "source": [
    "class OtwayModel(nn.Module):\n",
    "    def __init__(self, input_size, output_size):\n",
    "        super(OtwayModel, self).__init__()\n",
    "        self.lstm = nn.LSTM(input_size, 64, 2, batch_first=True)\n",
    "        self.fc = nn.Linear(64, output_size)  # arbitrary\n",
    "\n",
    "    def forward(self, x):\n",
    "        x, _ = self.lstm(x)\n",
    "        x = self.fc(x[:, -1, :])\n",
    "        return x"
   ]
  },
  {
   "cell_type": "code",
   "execution_count": 62,
   "metadata": {},
   "outputs": [],
   "source": [
    "model = OtwayModel(X_train.shape[2], 1).to(device)\n",
    "optimiser = torch.optim.Adam(model.parameters(), lr=0.001)\n",
    "loss_fn = nn.MSELoss()"
   ]
  },
  {
   "cell_type": "code",
   "execution_count": 63,
   "metadata": {},
   "outputs": [],
   "source": [
    "X_train_tensor = torch.tensor(X_train, device=device)\n",
    "y_train_tensor = torch.tensor(y_train, device=device).reshape(-1, 1)"
   ]
  },
  {
   "cell_type": "code",
   "execution_count": 64,
   "metadata": {},
   "outputs": [
    {
     "data": {
      "text/plain": [
       "torch.Size([1991, 1])"
      ]
     },
     "execution_count": 64,
     "metadata": {},
     "output_type": "execute_result"
    }
   ],
   "source": [
    "y_train_tensor.shape"
   ]
  },
  {
   "cell_type": "code",
   "execution_count": 65,
   "metadata": {},
   "outputs": [
    {
     "data": {
      "text/plain": [
       "OtwayModel(\n",
       "  (lstm): LSTM(7, 64, num_layers=2, batch_first=True)\n",
       "  (fc): Linear(in_features=64, out_features=1, bias=True)\n",
       ")"
      ]
     },
     "execution_count": 65,
     "metadata": {},
     "output_type": "execute_result"
    }
   ],
   "source": [
    "model.eval()"
   ]
  },
  {
   "cell_type": "code",
   "execution_count": 66,
   "metadata": {},
   "outputs": [
    {
     "name": "stdout",
     "output_type": "stream",
     "text": [
      "Epoch 0: Loss 0.130100280046463\n",
      "Epoch 1: Loss 0.11420092731714249\n",
      "Epoch 2: Loss 0.09965336322784424\n",
      "Epoch 3: Loss 0.08629310131072998\n",
      "Epoch 4: Loss 0.07406680285930634\n",
      "Epoch 5: Loss 0.06300035119056702\n",
      "Epoch 6: Loss 0.05323681980371475\n",
      "Epoch 7: Loss 0.04507584869861603\n",
      "Epoch 8: Loss 0.039000559598207474\n",
      "Epoch 9: Loss 0.03559408709406853\n",
      "Epoch 10: Loss 0.03510995954275131\n",
      "Epoch 11: Loss 0.036618273705244064\n",
      "Epoch 12: Loss 0.03789425641298294\n",
      "Epoch 13: Loss 0.03700738400220871\n",
      "Epoch 14: Loss 0.0336187519133091\n",
      "Epoch 15: Loss 0.028675828129053116\n",
      "Epoch 16: Loss 0.023469531908631325\n",
      "Epoch 17: Loss 0.018948135897517204\n",
      "Epoch 18: Loss 0.015489425510168076\n",
      "Epoch 19: Loss 0.01299824845045805\n",
      "Epoch 20: Loss 0.01112702488899231\n",
      "Epoch 21: Loss 0.00948273204267025\n",
      "Epoch 22: Loss 0.007772872690111399\n",
      "Epoch 23: Loss 0.005896132439374924\n",
      "Epoch 24: Loss 0.0039994860999286175\n",
      "Epoch 25: Loss 0.002492025727406144\n",
      "Epoch 26: Loss 0.0019146300619468093\n",
      "Epoch 27: Loss 0.0024428204633295536\n",
      "Epoch 28: Loss 0.0032471390441060066\n",
      "Epoch 29: Loss 0.0033062940929085016\n",
      "Epoch 30: Loss 0.0027937968261539936\n",
      "Epoch 31: Loss 0.0025181183591485023\n",
      "Epoch 32: Loss 0.0028248063754290342\n",
      "Epoch 33: Loss 0.00338277337141335\n",
      "Epoch 34: Loss 0.0036854587960988283\n",
      "Epoch 35: Loss 0.0035165033768862486\n",
      "Epoch 36: Loss 0.003013747278600931\n",
      "Epoch 37: Loss 0.002480729017406702\n",
      "Epoch 38: Loss 0.0021482708398252726\n",
      "Epoch 39: Loss 0.0020208435598760843\n",
      "Epoch 40: Loss 0.001921341405250132\n",
      "Epoch 41: Loss 0.0016995117766782641\n",
      "Epoch 42: Loss 0.0013733587693423033\n",
      "Epoch 43: Loss 0.0010724354069679976\n",
      "Epoch 44: Loss 0.0009003372979350388\n",
      "Epoch 45: Loss 0.0008657953585498035\n",
      "Epoch 46: Loss 0.0009067481150850654\n",
      "Epoch 47: Loss 0.0009500638698227704\n",
      "Epoch 48: Loss 0.0009544320637360215\n",
      "Epoch 49: Loss 0.0009204284870065749\n",
      "Epoch 50: Loss 0.000875942234415561\n",
      "Epoch 51: Loss 0.0008516806992702186\n",
      "Epoch 52: Loss 0.0008603077731095254\n",
      "Epoch 53: Loss 0.0008893520571291447\n",
      "Epoch 54: Loss 0.0009110734099522233\n",
      "Epoch 55: Loss 0.0009020801517181098\n",
      "Epoch 56: Loss 0.0008583539165556431\n",
      "Epoch 57: Loss 0.0007952803862281144\n",
      "Epoch 58: Loss 0.0007348110084421933\n",
      "Epoch 59: Loss 0.0006910667871125042\n",
      "Epoch 60: Loss 0.0006642763037234545\n",
      "Epoch 61: Loss 0.0006448199274018407\n",
      "Epoch 62: Loss 0.000622319697868079\n",
      "Epoch 63: Loss 0.0005931181367486715\n",
      "Epoch 64: Loss 0.0005620456067845225\n",
      "Epoch 65: Loss 0.0005383311654441059\n",
      "Epoch 66: Loss 0.0005288320244289935\n",
      "Epoch 67: Loss 0.0005331817083060741\n",
      "Epoch 68: Loss 0.0005441615940071642\n",
      "Epoch 69: Loss 0.0005528805195353925\n",
      "Epoch 70: Loss 0.0005546166212297976\n",
      "Epoch 71: Loss 0.0005508051253855228\n",
      "Epoch 72: Loss 0.0005461802938953042\n",
      "Epoch 73: Loss 0.000544144248124212\n",
      "Epoch 74: Loss 0.0005442770197987556\n",
      "Epoch 75: Loss 0.0005434062913991511\n",
      "Epoch 76: Loss 0.0005386495031416416\n",
      "Epoch 77: Loss 0.0005297709722071886\n",
      "Epoch 78: Loss 0.0005192598327994347\n",
      "Epoch 79: Loss 0.0005104472511447966\n",
      "Epoch 80: Loss 0.0005052783526480198\n",
      "Epoch 81: Loss 0.0005033618654124439\n",
      "Epoch 82: Loss 0.0005027852021157742\n",
      "Epoch 83: Loss 0.0005018198862671852\n",
      "Epoch 84: Loss 0.0005001012468710542\n",
      "Epoch 85: Loss 0.0004984880797564983\n",
      "Epoch 86: Loss 0.0004979818477295339\n",
      "Epoch 87: Loss 0.0004987371503375471\n",
      "Epoch 88: Loss 0.000499921094160527\n",
      "Epoch 89: Loss 0.0005003752885386348\n",
      "Epoch 90: Loss 0.0004994464688934386\n",
      "Epoch 91: Loss 0.0004973475588485599\n",
      "Epoch 92: Loss 0.0004948604619130492\n",
      "Epoch 93: Loss 0.0004927018308080733\n",
      "Epoch 94: Loss 0.0004910624702461064\n",
      "Epoch 95: Loss 0.0004896353930234909\n",
      "Epoch 96: Loss 0.0004880258929915726\n",
      "Epoch 97: Loss 0.0004861531488131732\n",
      "Epoch 98: Loss 0.00048431262257508934\n",
      "Epoch 99: Loss 0.00048289605183526874\n"
     ]
    }
   ],
   "source": [
    "for epoch in range(100):\n",
    "    model.train()\n",
    "    optimiser.zero_grad()\n",
    "    output = model(X_train_tensor)\n",
    "    loss = loss_fn(output, y_train_tensor)\n",
    "    loss.backward()\n",
    "    optimiser.step()\n",
    "    print(f\"Epoch {epoch}: Loss {loss.item()}\")"
   ]
  },
  {
   "cell_type": "code",
   "execution_count": 67,
   "metadata": {},
   "outputs": [],
   "source": [
    "torch.save(model.state_dict(), \"otway-model.pt\")"
   ]
  },
  {
   "cell_type": "code",
   "execution_count": null,
   "metadata": {},
   "outputs": [],
   "source": [
    "# Evaluate model on test set\n",
    "X_test_tensor = torch.tensor(X_test, device=device)\n",
    "y_test_tensor = torch.tensor(y_test, device=device).reshape(-1, 1)\n",
    "model.eval()\n",
    "output = model(X_test_tensor)\n",
    "loss = loss_fn(output, y_test_tensor)\n",
    "print(\"Test set loss:\", loss.item())"
   ]
  },
  {
   "cell_type": "code",
   "execution_count": null,
   "metadata": {},
   "outputs": [],
   "source": []
  }
 ],
 "metadata": {
  "kernelspec": {
   "display_name": ".venv",
   "language": "python",
   "name": "python3"
  },
  "language_info": {
   "codemirror_mode": {
    "name": "ipython",
    "version": 3
   },
   "file_extension": ".py",
   "mimetype": "text/x-python",
   "name": "python",
   "nbconvert_exporter": "python",
   "pygments_lexer": "ipython3",
   "version": "3.11.9"
  }
 },
 "nbformat": 4,
 "nbformat_minor": 2
}
