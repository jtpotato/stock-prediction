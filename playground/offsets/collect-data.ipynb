{
 "cells": [
  {
   "cell_type": "code",
   "execution_count": 5,
   "metadata": {},
   "outputs": [
    {
     "data": {
      "text/plain": [
       "178    VAP\n",
       "21     ARG\n",
       "193    WPL\n",
       "147    RRL\n",
       "98     LLC\n",
       "68     ELD\n",
       "101    MCY\n",
       "81     HLS\n",
       "192    WOW\n",
       "30     BIN\n",
       "1      AAA\n",
       "164    STO\n",
       "37     BWP\n",
       "161    SNZ\n",
       "46     CHN\n",
       "88     ILU\n",
       "113    NAB\n",
       "76     GMG\n",
       "40     CBA\n",
       "33     BOQ\n",
       "Name: STOCK, dtype: object"
      ]
     },
     "execution_count": 5,
     "metadata": {},
     "output_type": "execute_result"
    }
   ],
   "source": [
    "import pandas as pd\n",
    "\n",
    "stock_list = pd.read_csv(\"stocks.tsv\", sep=\"\\t\").sample(n=20, random_state=2024)\n",
    "\n",
    "stocks = stock_list[\"STOCK\"]\n",
    "\n",
    "stocks"
   ]
  },
  {
   "cell_type": "code",
   "execution_count": 6,
   "metadata": {},
   "outputs": [],
   "source": [
    "import yfinance as yf"
   ]
  },
  {
   "cell_type": "code",
   "execution_count": 7,
   "metadata": {},
   "outputs": [
    {
     "data": {
      "text/html": [
       "<div>\n",
       "<style scoped>\n",
       "    .dataframe tbody tr th:only-of-type {\n",
       "        vertical-align: middle;\n",
       "    }\n",
       "\n",
       "    .dataframe tbody tr th {\n",
       "        vertical-align: top;\n",
       "    }\n",
       "\n",
       "    .dataframe thead th {\n",
       "        text-align: right;\n",
       "    }\n",
       "</style>\n",
       "<table border=\"1\" class=\"dataframe\">\n",
       "  <thead>\n",
       "    <tr style=\"text-align: right;\">\n",
       "      <th></th>\n",
       "      <th>Open</th>\n",
       "      <th>Close</th>\n",
       "      <th>Volume</th>\n",
       "    </tr>\n",
       "    <tr>\n",
       "      <th>Date</th>\n",
       "      <th></th>\n",
       "      <th></th>\n",
       "      <th></th>\n",
       "    </tr>\n",
       "  </thead>\n",
       "  <tbody>\n",
       "    <tr>\n",
       "      <th>2023-03-27 00:00:00+11:00</th>\n",
       "      <td>72.065968</td>\n",
       "      <td>72.575233</td>\n",
       "      <td>48108</td>\n",
       "    </tr>\n",
       "    <tr>\n",
       "      <th>2023-03-28 00:00:00+11:00</th>\n",
       "      <td>72.065978</td>\n",
       "      <td>72.757812</td>\n",
       "      <td>75465</td>\n",
       "    </tr>\n",
       "    <tr>\n",
       "      <th>2023-03-29 00:00:00+11:00</th>\n",
       "      <td>72.642508</td>\n",
       "      <td>72.075592</td>\n",
       "      <td>61745</td>\n",
       "    </tr>\n",
       "    <tr>\n",
       "      <th>2023-03-30 00:00:00+11:00</th>\n",
       "      <td>72.748192</td>\n",
       "      <td>72.402275</td>\n",
       "      <td>30470</td>\n",
       "    </tr>\n",
       "    <tr>\n",
       "      <th>2023-03-31 00:00:00+11:00</th>\n",
       "      <td>72.969198</td>\n",
       "      <td>72.402275</td>\n",
       "      <td>53099</td>\n",
       "    </tr>\n",
       "    <tr>\n",
       "      <th>...</th>\n",
       "      <td>...</td>\n",
       "      <td>...</td>\n",
       "      <td>...</td>\n",
       "    </tr>\n",
       "    <tr>\n",
       "      <th>2024-03-19 00:00:00+11:00</th>\n",
       "      <td>91.800003</td>\n",
       "      <td>92.559998</td>\n",
       "      <td>25038</td>\n",
       "    </tr>\n",
       "    <tr>\n",
       "      <th>2024-03-20 00:00:00+11:00</th>\n",
       "      <td>92.709999</td>\n",
       "      <td>92.589996</td>\n",
       "      <td>52736</td>\n",
       "    </tr>\n",
       "    <tr>\n",
       "      <th>2024-03-21 00:00:00+11:00</th>\n",
       "      <td>93.500000</td>\n",
       "      <td>93.699997</td>\n",
       "      <td>41281</td>\n",
       "    </tr>\n",
       "    <tr>\n",
       "      <th>2024-03-22 00:00:00+11:00</th>\n",
       "      <td>93.930000</td>\n",
       "      <td>95.040001</td>\n",
       "      <td>32777</td>\n",
       "    </tr>\n",
       "    <tr>\n",
       "      <th>2024-03-25 00:00:00+11:00</th>\n",
       "      <td>95.300003</td>\n",
       "      <td>96.500000</td>\n",
       "      <td>49934</td>\n",
       "    </tr>\n",
       "  </tbody>\n",
       "</table>\n",
       "<p>253 rows × 3 columns</p>\n",
       "</div>"
      ],
      "text/plain": [
       "                                Open      Close  Volume\n",
       "Date                                                   \n",
       "2023-03-27 00:00:00+11:00  72.065968  72.575233   48108\n",
       "2023-03-28 00:00:00+11:00  72.065978  72.757812   75465\n",
       "2023-03-29 00:00:00+11:00  72.642508  72.075592   61745\n",
       "2023-03-30 00:00:00+11:00  72.748192  72.402275   30470\n",
       "2023-03-31 00:00:00+11:00  72.969198  72.402275   53099\n",
       "...                              ...        ...     ...\n",
       "2024-03-19 00:00:00+11:00  91.800003  92.559998   25038\n",
       "2024-03-20 00:00:00+11:00  92.709999  92.589996   52736\n",
       "2024-03-21 00:00:00+11:00  93.500000  93.699997   41281\n",
       "2024-03-22 00:00:00+11:00  93.930000  95.040001   32777\n",
       "2024-03-25 00:00:00+11:00  95.300003  96.500000   49934\n",
       "\n",
       "[253 rows x 3 columns]"
      ]
     },
     "execution_count": 7,
     "metadata": {},
     "output_type": "execute_result"
    }
   ],
   "source": [
    "stock_data = yf.Ticker(stocks.iloc[0] + \".AX\").history(period=\"1y\")\n",
    "\n",
    "stock_data[[\"Open\", \"Close\", \"Volume\"]]"
   ]
  },
  {
   "cell_type": "code",
   "execution_count": 8,
   "metadata": {},
   "outputs": [
    {
     "name": "stderr",
     "output_type": "stream",
     "text": [
      "WPL.AX: No data found, symbol may be delisted\n",
      "BIN.AX: No data found, symbol may be delisted\n"
     ]
    }
   ],
   "source": [
    "!rm tickers/*\n",
    "\n",
    "for stock_ticker in stocks:\n",
    "  stock_data = yf.Ticker(stock_ticker + \".AX\").history(period=\"1y\")[[\"Close\", \"Volume\"]]\n",
    "  stock_data.to_csv(\"tickers/\" + stock_ticker + \".csv\")"
   ]
  }
 ],
 "metadata": {
  "kernelspec": {
   "display_name": "Python 3",
   "language": "python",
   "name": "python3"
  },
  "language_info": {
   "codemirror_mode": {
    "name": "ipython",
    "version": 3
   },
   "file_extension": ".py",
   "mimetype": "text/x-python",
   "name": "python",
   "nbconvert_exporter": "python",
   "pygments_lexer": "ipython3",
   "version": "3.11.3"
  }
 },
 "nbformat": 4,
 "nbformat_minor": 2
}
