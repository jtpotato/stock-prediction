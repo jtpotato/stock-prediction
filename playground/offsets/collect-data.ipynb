{
 "cells": [
  {
   "cell_type": "code",
   "execution_count": 1,
   "metadata": {},
   "outputs": [
    {
     "data": {
      "text/plain": [
       "178    VAP\n",
       "21     ARG\n",
       "193    WPL\n",
       "147    RRL\n",
       "98     LLC\n",
       "68     ELD\n",
       "101    MCY\n",
       "81     HLS\n",
       "192    WOW\n",
       "30     BIN\n",
       "1      AAA\n",
       "164    STO\n",
       "37     BWP\n",
       "161    SNZ\n",
       "46     CHN\n",
       "88     ILU\n",
       "113    NAB\n",
       "76     GMG\n",
       "40     CBA\n",
       "33     BOQ\n",
       "188    WBC\n",
       "15     ANZ\n",
       "38     BXB\n",
       "108    MLT\n",
       "0      A2M\n",
       "140    QBE\n",
       "112    MTS\n",
       "195    WTC\n",
       "19     APX\n",
       "80     GXY\n",
       "162    SOL\n",
       "49     CLW\n",
       "167    SUN\n",
       "77     GNE\n",
       "130    PDL\n",
       "79     GPT\n",
       "44     CGF\n",
       "125    ORG\n",
       "34     BPT\n",
       "70     EVN\n",
       "Name: STOCK, dtype: object"
      ]
     },
     "execution_count": 1,
     "metadata": {},
     "output_type": "execute_result"
    }
   ],
   "source": [
    "import pandas as pd\n",
    "\n",
    "stock_list = pd.read_csv(\"stocks.tsv\", sep=\"\\t\").sample(n=40, random_state=2024)\n",
    "\n",
    "stocks = stock_list[\"STOCK\"]\n",
    "\n",
    "stocks"
   ]
  },
  {
   "cell_type": "code",
   "execution_count": 2,
   "metadata": {},
   "outputs": [],
   "source": [
    "import yfinance as yf"
   ]
  },
  {
   "cell_type": "code",
   "execution_count": 3,
   "metadata": {},
   "outputs": [],
   "source": [
    "# stock_data = yf.Ticker(stocks.iloc[0] + \".AX\").history(period=\"1y\")\n",
    "\n",
    "# stock_data[[\"Open\", \"Close\", \"Volume\"]]"
   ]
  },
  {
   "cell_type": "code",
   "execution_count": 4,
   "metadata": {},
   "outputs": [
    {
     "name": "stderr",
     "output_type": "stream",
     "text": [
      "WPL.AX: No data found, symbol may be delisted\n",
      "BIN.AX: No data found, symbol may be delisted\n",
      "MLT.AX: No data found, symbol may be delisted\n",
      "GXY.AX: No data found, symbol may be delisted\n",
      "PDL.AX: No data found, symbol may be delisted\n"
     ]
    }
   ],
   "source": [
    "!rm tickers/*\n",
    "\n",
    "for stock_ticker in stocks:\n",
    "  stock_data = yf.Ticker(stock_ticker + \".AX\").history(period=\"1y\")[[\"Close\", \"Volume\"]]\n",
    "  stock_data.to_csv(\"tickers/\" + stock_ticker + \".csv\")"
   ]
  }
 ],
 "metadata": {
  "kernelspec": {
   "display_name": "Python 3",
   "language": "python",
   "name": "python3"
  },
  "language_info": {
   "codemirror_mode": {
    "name": "ipython",
    "version": 3
   },
   "file_extension": ".py",
   "mimetype": "text/x-python",
   "name": "python",
   "nbconvert_exporter": "python",
   "pygments_lexer": "ipython3",
   "version": "3.11.3"
  }
 },
 "nbformat": 4,
 "nbformat_minor": 2
}
