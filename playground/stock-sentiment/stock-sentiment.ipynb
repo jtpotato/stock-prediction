{
 "cells": [
  {
   "cell_type": "code",
   "execution_count": 71,
   "metadata": {},
   "outputs": [],
   "source": [
    "import requests\n",
    "\n",
    "headers = {\n",
    "    \"User-Agent\": \"Mozilla/5.0 (X11; Ubuntu; Linux x86_64; rv:89.0) Gecko/20100101 Firefox/89.0\"\n",
    "}"
   ]
  },
  {
   "cell_type": "code",
   "execution_count": 72,
   "metadata": {},
   "outputs": [],
   "source": [
    "def get_ticker_news(ticker):\n",
    "    url = f\"https://www.google.com/finance/quote/{ticker}\"\n",
    "    r = requests.get(url, headers=headers)\n",
    "    return r.text"
   ]
  },
  {
   "cell_type": "code",
   "execution_count": 73,
   "metadata": {},
   "outputs": [
    {
     "name": "stderr",
     "output_type": "stream",
     "text": [
      "[nltk_data] Downloading package stopwords to\n",
      "[nltk_data]     /Users/joeltan/nltk_data...\n",
      "[nltk_data]   Package stopwords is already up-to-date!\n"
     ]
    },
    {
     "data": {
      "text/plain": [
       "True"
      ]
     },
     "execution_count": 73,
     "metadata": {},
     "output_type": "execute_result"
    }
   ],
   "source": [
    "from bs4 import BeautifulSoup\n",
    "import nltk\n",
    "import ssl\n",
    "\n",
    "# ssl\n",
    "try:\n",
    "  _create_unverified_https_context = ssl._create_unverified_context\n",
    "except AttributeError:\n",
    "  pass\n",
    "else:\n",
    "  ssl._create_default_https_context = _create_unverified_https_context\n",
    "\n",
    "nltk.download('stopwords')"
   ]
  },
  {
   "cell_type": "code",
   "execution_count": 74,
   "metadata": {},
   "outputs": [],
   "source": [
    "import re\n",
    "from nltk.corpus import stopwords\n",
    "stop_words = set(stopwords.words('english'))\n",
    "\n",
    "def prepare_text(text: str):\n",
    "    text = text.lower().strip()\n",
    "    # remove punctuation\n",
    "    text = re.sub(r'[^\\w\\s]', '', text)\n",
    "\n",
    "    text = \" \".join([i for i in text.split() if i not in stop_words])\n",
    "\n",
    "    return text"
   ]
  },
  {
   "cell_type": "code",
   "execution_count": 75,
   "metadata": {},
   "outputs": [],
   "source": [
    "def get_headlines(soup):\n",
    "    headlines_text = []\n",
    "    headlines = soup.find_all(\"div\", {\"class\": \"F2KAFc\"})\n",
    "    for headline in headlines:\n",
    "        headlines_text.append(prepare_text(headline.text))\n",
    "    return headlines_text"
   ]
  },
  {
   "cell_type": "code",
   "execution_count": 97,
   "metadata": {},
   "outputs": [],
   "source": [
    "def get_change(soup: BeautifulSoup):\n",
    "    current = soup.find(\"div\", {\"class\": \"YMlKec fxKbKc\"})\n",
    "    previous_close = soup.find(\"div\", {\"class\": \"P6K39c\"})\n",
    "    if not current or not previous_close:\n",
    "        return None\n",
    "    current = current.text\n",
    "    previous_close = previous_close.text\n",
    "\n",
    "    # remove currency symbol\n",
    "    current = current.replace(\"$\", \"\").replace(\",\", \"\")\n",
    "    previous_close = previous_close.replace(\"$\", \"\").replace(\",\", \"\")\n",
    "    \n",
    "    # turn to numbers\n",
    "    current_f = float(current)\n",
    "    previous_close_f = float(previous_close)\n",
    "    change = current_f - previous_close_f\n",
    "    change_percent = (change / previous_close_f) * 100\n",
    "    \n",
    "    return change_percent"
   ]
  },
  {
   "cell_type": "code",
   "execution_count": 89,
   "metadata": {},
   "outputs": [
    {
     "data": {
      "text/plain": [
       "['AAPL:NASDAQ',\n",
       " 'MSFT:NASDAQ',\n",
       " 'AMZN:NASDAQ',\n",
       " 'GOOGL:NASDAQ',\n",
       " 'FB:NASDAQ',\n",
       " 'TSLA:NASDAQ',\n",
       " 'NVDA:NASDAQ',\n",
       " 'INTC:NASDAQ',\n",
       " 'CSCO:NASDAQ',\n",
       " 'ADBE:NASDAQ',\n",
       " 'IBM:NYSE',\n",
       " 'ORCL:NYSE',\n",
       " 'QCOM:NASDAQ',\n",
       " 'CRM:NYSE',\n",
       " 'PYPL:NASDAQ',\n",
       " 'SQ:NYSE',\n",
       " 'AMD:NASDAQ',\n",
       " 'NFLX:NASDAQ',\n",
       " 'SHOP:NYSE',\n",
       " 'ZM:NASDAQ',\n",
       " 'TWTR:NYSE',\n",
       " 'INTC:NASDAQ',\n",
       " 'MU:NASDAQ',\n",
       " 'WDC:NASDAQ',\n",
       " 'AMAT:NASDAQ',\n",
       " 'HPQ:NYSE',\n",
       " 'DELL:NYSE',\n",
       " 'AVGO:NASDAQ',\n",
       " 'TXN:NASDAQ',\n",
       " 'ASML:NASDAQ',\n",
       " 'EA:NASDAQ',\n",
       " 'ATVI:NASDAQ',\n",
       " 'AMD:NASDAQ',\n",
       " 'WDAY:NASDAQ',\n",
       " 'NOW:NYSE',\n",
       " 'INTU:NASDAQ',\n",
       " 'VMW:NYSE',\n",
       " 'STX:NASDAQ',\n",
       " 'TWLO:NYSE',\n",
       " 'DOCU:NASDAQ',\n",
       " 'CSCO:NASDAQ',\n",
       " 'ADI:NASDAQ',\n",
       " 'NOK:NYSE',\n",
       " 'JNPR:NYSE',\n",
       " 'FFIV:NASDAQ',\n",
       " 'PANW:NYSE',\n",
       " 'FTNT:NASDAQ',\n",
       " 'ANET:NYSE',\n",
       " 'AKAM:NASDAQ',\n",
       " 'ZS:NASDAQ']"
      ]
     },
     "execution_count": 89,
     "metadata": {},
     "output_type": "execute_result"
    }
   ],
   "source": [
    "tickers = open(\"ticker-symbols.txt\", \"r\").read().splitlines()\n",
    "\n",
    "tickers"
   ]
  },
  {
   "cell_type": "code",
   "execution_count": 90,
   "metadata": {},
   "outputs": [],
   "source": [
    "ticker_soups = []\n",
    "\n",
    "for ticker in tickers:\n",
    "  ticker_news = get_ticker_news(ticker)\n",
    "  soup = BeautifulSoup(ticker_news, \"html.parser\")\n",
    "  ticker_soups.append(soup)"
   ]
  },
  {
   "cell_type": "code",
   "execution_count": 98,
   "metadata": {},
   "outputs": [
    {
     "name": "stdout",
     "output_type": "stream",
     "text": [
      "AAPL:NASDAQ, best worst positioned mag 7 stocks coming earnings india apples wearable laptop tablet business fails match iphones impressive growth 2023 sp 500 earnings still solid nvidia walmart look apple heres shareholders may want cautious increasing apple incs nasdaqaapl ceo pay packet vision pro review apples first headset lacks polish purpose working parents review apple vision pro apple make hard share vision pro apple vision pro review revolution progress apple byjus ceos fired companies memo employees tim cook used 2 words demonstrate important principle every leader increases ceo compensation might put hold apple inc nasdaqaapl, -1.0034170418180801\n",
      "MSFT:NASDAQ, microsoft stock 2024 outlook 3 strong catalysts growth nasdaqmsft 2 revolutionary stocks id buy right without hesitation share microsoft 365 subscription microsoftbacked openai valued 80bn company completes deal indianorigin ceo quit microsoft launch startup got rs 25 crore deal shark tank us 29yearold ceo quit microsoft take care plants, -0.3182315073484762\n",
      "AMZN:NASDAQ, amazon amzn top growth stock longterm nvidia adds 277 bn mcap bumper q4 beats amazon become 3rd valuable us firm amazon joins dow earnings inflation data watch amazonco amzn stock increased following q3 earnings report amazoncom nasdaqamzn stock performs better underlying earnings growth last five years walmart vizio amazon alexa 20 bezos cashes 85 billion amazon share sale, 0.23484935273226978\n",
      "GOOGL:NASDAQ, block stock soars earnings tech news today opinion magnificent seven us tech stocks bubble wont burst 3 ai stocks every investor needs today, -0.09022138940939374\n",
      "TSLA:NASDAQ, tesla cybertruck impressive worrying elon musk ev maker rivian die current path rivian stock falls ev maker reports fourthquarter results announces 10 job cuts nvidia overtakes tesla mosttraded stock ai boosts revenue 265 gave teslas cybertruck 48hour thrashing mostly survived tesla model 3 review 2024 price specs musks tesla could use buyback pickmeup global car market hit speed bumps 2024 popular ev worldwide 2023 opinion sweden right stand firm elon musk jim cramer says nvidia ceo jensen huang bigger visionary elon musk elon musk says spacexs legal home moved delaware texas, -2.7556861354541295\n",
      "NVDA:NASDAQ, nvidia posts revenue 265 booming ai business nvidia triggers rally semiconductor stocks asm tech locked 10 upper circuit spel hits 52week high mint nvidias aifriendly hardware sends market value soaring higher australias gdp ai chip firm nvidia valued 2tn nvidia share price course reach us1400 nvidia briefly surpasses 2 trillion market cap intraday trading nvidia ceo gpus allocate fairly nvidia earnings ai craze tripled sales last year nears 2 trillion market cap boom wsj nvidia stock pops bell q4 earnings nvidias good fortune isnt good everyone else good luck catching nvidia nvidias world living simulation believe singleday gain nvidia stock rils total market value indian investors gained nvidias rise whats behind sp 500s spectacular gains 4 charts nvidia ceo jensen huang powering ai revolution jensen huang elon musk openai story behind hand delivery first ai supercomputer unlock nvidia earnings show soaring profit revenue amid ai boom, 0.3552420484351478\n",
      "INTC:NASDAQ, intc stock analysis intel well worth look pullback intel splits two aid ceo pat gelsingers turnaround plansand links archrival arm wont believe intels ceo said wont believe intels ceo said intel confirms 3nm chip orders placed tsmc intel launches foundry business ai era mind, 0.023266635644497713\n",
      "IBM:NYSE, ibm ibm 33 since last earnings report international business machines corporations nyseibm roe 33 impressive ibm sees strong 2024 free cash flow plans job cuts, 0.8197166277617886\n",
      "ORCL:NYSE, 20 mnnit btech students bag 637 lakh oracle offer need know parcl airdrop oracle explorer feb 2024, 0.8467705612106996\n",
      "PYPL:NASDAQ, pypl stock analysis wall street cant agree paypal buy anyway former paypal ceo peter thiels founders fund bought 100 million bitcoin paypal cuts 2500 jobs face rising competition, 1.3710368466152478\n",
      "SQ:NYSE, asx 200 live woodside sells 21b scarborough stake nab calls inflation rebound block inc nysesq q4 2023 earnings call transcript live asx 200 gains tech stocks rally block jumps jack dorseys block posts profit stock jumps afterhours trading blocks shares surge results beat analysts estimates jack dorseys block scores big 90 boost bitcoin profits q4, 16.12713360800472\n",
      "AMD:NASDAQ, ai semiconductor stocks surge nvidias earnings beat nvidia earnings boost ai chip stocks rally q4 report ai chipmaker stocks surge premarket nvidias blockbuster earnings, -2.9363246453315757\n",
      "NFLX:NASDAQ, netflix nflx 52 since last earnings report continue wall street sets netflix stock price next 12 months roku stock rocks southeast asian streaming subscriber growth stalls revenues soar 14 billion driven local us content report reveals avatar last airbender receives mixed reviews critics mea culpa review whos really blame review netflixs avatar last airbender delivers charm style avatar last airbender boss talks topsecret casting process stories left behind series gameplan mea culpa interview tyler perry talks netflix thriller twists, -0.8343670875320887\n",
      "SHOP:NYSE, rt retail times dax dasilva returns lightspeed ceo shopify drops strong earnings shopify revenue gmv grow 20 q4 light first quarter guidance dimmed shopifys q4 beat massive potential, 1.612688258030113\n",
      "INTC:NASDAQ, intc stock analysis intel well worth look pullback intel splits two aid ceo pat gelsingers turnaround plansand links archrival arm wont believe intels ceo said, 0.023266635644497713\n",
      "AMAT:NASDAQ, wall street analysts think applied materials amat good investment applied materials still buy postearnings surge applied materials amat q1 earnings beat sales dip yy, -1.2867370950783523\n",
      "EA:NASDAQ, heres electronic arts ea strong momentum stock nightingale developer inflexion point best xfactors madden 24 superstar abilities qbs wrs dbs, -0.647993311036794\n",
      "AMD:NASDAQ, ai semiconductor stocks surge nvidias earnings beat nvidia earnings boost ai chip stocks rally q4 report ai chipmaker stocks surge premarket nvidias blockbuster earnings amd super micro palantir ai stocks gain nvidias strong quarter amd ceo dr lisa su deliver opening keynote computex 2024 intel ceo pat gelsinger hope build chips lisa su amd, -2.9363246453315757\n",
      "ADI:NASDAQ, earnings call analog devices beats q1 expectations raises dividend investingcom analog devices nasdaqadi upcoming dividend larger last years analog devices faces outlook cuts holds strong auto industrial analysts optimistic benzinga, -0.9379396592152484\n",
      "FTNT:NASDAQ, us6696 time put fortinet inc nasdaqftnt watch list fortinet appoints maggie wilderotter board directors maggie wilderotter joins fortinet board directors, 1.0155316606929614\n",
      "ANET:NYSE, arista networks ceo ai arista network slips premarket weakerthananticipated q1 margin outlook investingcom arista delivers earnings line forecasts stock dips afterhours, -0.4092870962940787\n",
      "ZS:NASDAQ, zscaler shares sink sympathy palo alto networks plunge crowdstrike zscaler sentinelone shares sliding tuesday whats going crowdstrike holdings na zscaler zs suffers larger drop general market key insights, 4.015034269290287\n"
     ]
    }
   ],
   "source": [
    "for i, soup in enumerate(ticker_soups):\n",
    "  headlines: list[str] = get_headlines(soup)\n",
    "  change = get_change(soup)\n",
    "  headline_str = \" \".join(headlines)\n",
    "\n",
    "  if headline_str:\n",
    "    print(f\"{tickers[i]}, {headline_str}, {change}\")"
   ]
  }
 ],
 "metadata": {
  "kernelspec": {
   "display_name": "Python 3",
   "language": "python",
   "name": "python3"
  },
  "language_info": {
   "codemirror_mode": {
    "name": "ipython",
    "version": 3
   },
   "file_extension": ".py",
   "mimetype": "text/x-python",
   "name": "python",
   "nbconvert_exporter": "python",
   "pygments_lexer": "ipython3",
   "version": "3.11.3"
  }
 },
 "nbformat": 4,
 "nbformat_minor": 2
}
